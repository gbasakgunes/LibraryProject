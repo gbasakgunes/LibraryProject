{
  "nbformat": 4,
  "nbformat_minor": 0,
  "metadata": {
    "colab": {
      "provenance": []
    },
    "kernelspec": {
      "name": "python3",
      "display_name": "Python 3"
    },
    "language_info": {
      "name": "python"
    }
  },
  "cells": [
    {
      "cell_type": "code",
      "execution_count": null,
      "metadata": {
        "id": "gNgYhMcg-VoV"
      },
      "outputs": [],
      "source": [
        "class Library:\n",
        "    def __init__(self, filename=\"books.txt\"):\n",
        "        self.filename = filename\n",
        "        self.books = []  # Store books as a list of dictionaries\n",
        "\n",
        "    def list_books(self):\n",
        "        try:\n",
        "            with open(self.filename, \"r\") as file:\n",
        "                content = file.read()\n",
        "                print(\"List Books: \")\n",
        "                print(content)\n",
        "        except FileNotFoundError:\n",
        "            print(\"There is no book in the list!\")\n",
        "\n",
        "    def add_book(self, title, author, release_year, number_of_pages):\n",
        "        new_book = {\n",
        "            \"title\": title,\n",
        "            \"author\": author,\n",
        "            \"release_year\": release_year,\n",
        "            \"number_of_pages\": number_of_pages\n",
        "        }\n",
        "\n",
        "        if new_book not in self.books:\n",
        "            self.books.append(new_book)\n",
        "            with open(self.filename, \"a\") as file:\n",
        "                file.write(f\"{title}, {author}, {release_year}, {number_of_pages}\\n\")\n",
        "            print(f\"Book '{title}' added to the library.\")\n",
        "        else:\n",
        "            print(f\"Book '{title}' already exists in the library.\")\n",
        "\n",
        "    def remove_book(self, title):\n",
        "        try:\n",
        "            with open(self.filename, \"r\") as file:\n",
        "                lines = file.readlines()\n",
        "            with open(self.filename, \"w\") as file:\n",
        "                for line in lines:\n",
        "                    if title not in line:\n",
        "                        file.write(line)\n",
        "            print(f\"Book '{title}' removed from the library.\")\n",
        "        except FileNotFoundError:\n",
        "            print(\"There is no book in the list!\")\n",
        "\n",
        "# Create an object with Library class\n",
        "lib = Library()\n",
        "\n",
        "# ***MENU***\n",
        "print(\"1) List Books\\n2) Add Book\\n3) Remove Book\")\n",
        "\n",
        "choice = input(\"Which one would you like to do?: \")\n",
        "choice = int(choice)\n",
        "\n",
        "if choice == 1:\n",
        "    lib.list_books()\n",
        "elif choice == 2:\n",
        "    title = input(\"Enter the title: \")\n",
        "    author = input(\"Enter the author: \")\n",
        "    release_year = input(\"Enter the release year: \")\n",
        "    number_of_pages = input(\"Enter the number of pages: \")\n",
        "    lib.add_book(title, author, release_year, number_of_pages)\n",
        "elif choice == 3:\n",
        "    title = input(\"Enter the title of the book you want to remove: \")\n",
        "    lib.remove_book(title)\n",
        "else:\n",
        "    print(\"You entered a wrong number!\")"
      ]
    }
  ]
}